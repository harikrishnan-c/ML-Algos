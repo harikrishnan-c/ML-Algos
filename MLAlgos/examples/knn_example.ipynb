{
 "cells": [
  {
   "cell_type": "code",
   "execution_count": 48,
   "metadata": {
    "collapsed": true
   },
   "outputs": [],
   "source": [
    "import numpy as np\n",
    "import sys\n",
    "import os\n",
    "\n",
    "file = os.path.dirname(os.path.abspath(\"__file__\"))\n",
    "sys.path.append(file[:-8])\n",
    "\n",
    "from sklearn import datasets\n",
    "from sklearn.model_selection import train_test_split\n",
    "from supervised_learning.neighbours import KNeighboursClassifier as KNeighborsClassifierMyImpl\n",
    "from sklearn.metrics import accuracy_score\n",
    "from sklearn.neighbors import KNeighborsClassifier\n",
    "import pandas as pd\n",
    "import time as time"
   ]
  },
  {
   "cell_type": "code",
   "execution_count": 36,
   "outputs": [],
   "source": [
    "iris = datasets.load_iris()\n",
    "iris_df = pd.DataFrame(data= np.c_[iris['data'], iris['target']],\n",
    "                      columns= iris['feature_names'] + ['target'])\n",
    "x= iris_df.iloc[:, :-1]\n",
    "y= iris_df.iloc[:, -1]\n",
    "x_train, x_test, y_train, y_test= train_test_split(x, y,\n",
    "                                                   test_size= 0.2,\n",
    "                                                   shuffle= True, #shuffle the data to avoid bias\n",
    "                                                   random_state= 0)\n",
    "x_train= np.asarray(x_train)\n",
    "y_train= np.asarray(y_train)\n",
    "x_test= np.asarray(x_test)\n",
    "y_test= np.asarray(y_test)"
   ],
   "metadata": {
    "collapsed": false,
    "pycharm": {
     "name": "#%%\n"
    }
   }
  },
  {
   "cell_type": "code",
   "execution_count": 75,
   "outputs": [
    {
     "data": {
      "text/plain": "1.0"
     },
     "execution_count": 75,
     "metadata": {},
     "output_type": "execute_result"
    }
   ],
   "source": [
    "knn=KNeighborsClassifier(n_neighbors=5, weights='distance')\n",
    "knn.fit(x_train, y_train)\n",
    "y_pred_sklearn= knn.predict(x_test)\n",
    "\n",
    "accuracy_score(y_test, y_pred_sklearn)"
   ],
   "metadata": {
    "collapsed": false,
    "pycharm": {
     "name": "#%%\n"
    }
   }
  },
  {
   "cell_type": "code",
   "execution_count": 76,
   "outputs": [
    {
     "data": {
      "text/plain": "1.0"
     },
     "execution_count": 76,
     "metadata": {},
     "output_type": "execute_result"
    }
   ],
   "source": [
    "knn_myi = KNeighborsClassifierMyImpl(n_neighbors=5, weights='distance')\n",
    "knn_myi.fit(x_train,y_train)\n",
    "y_pred_near = knn_myi.predict(x_test)\n",
    "\n",
    "accuracy_score(y_test, y_pred_near)"
   ],
   "metadata": {
    "collapsed": false,
    "pycharm": {
     "name": "#%%\n"
    }
   }
  },
  {
   "cell_type": "code",
   "execution_count": 39,
   "outputs": [
    {
     "data": {
      "text/plain": "1.0"
     },
     "execution_count": 39,
     "metadata": {},
     "output_type": "execute_result"
    }
   ],
   "source": [
    "knn_myi = KNeighborsClassifierMyImpl(n_neighbors=5, weights='uniform',metric='manhattan')\n",
    "knn_myi.fit(x_train,y_train)\n",
    "y_pred_near = knn_myi.predict(x_test)\n",
    "\n",
    "accuracy_score(y_test, y_pred_near)"
   ],
   "metadata": {
    "collapsed": false,
    "pycharm": {
     "name": "#%%\n"
    }
   }
  },
  {
   "cell_type": "code",
   "execution_count": 40,
   "outputs": [
    {
     "data": {
      "text/plain": "array([0., 1., 2.])"
     },
     "execution_count": 40,
     "metadata": {},
     "output_type": "execute_result"
    }
   ],
   "source": [
    "knn_myi.classes_"
   ],
   "metadata": {
    "collapsed": false,
    "pycharm": {
     "name": "#%%\n"
    }
   }
  },
  {
   "cell_type": "code",
   "execution_count": 46,
   "outputs": [
    {
     "data": {
      "text/plain": "4"
     },
     "execution_count": 46,
     "metadata": {},
     "output_type": "execute_result"
    }
   ],
   "source": [
    "knn_myi.n_features_in_"
   ],
   "metadata": {
    "collapsed": false,
    "pycharm": {
     "name": "#%%\n"
    }
   }
  },
  {
   "cell_type": "code",
   "execution_count": 47,
   "outputs": [
    {
     "data": {
      "text/plain": "120"
     },
     "execution_count": 47,
     "metadata": {},
     "output_type": "execute_result"
    }
   ],
   "source": [
    "knn_myi.n_samples_fit"
   ],
   "metadata": {
    "collapsed": false,
    "pycharm": {
     "name": "#%%\n"
    }
   }
  },
  {
   "cell_type": "code",
   "execution_count": 42,
   "outputs": [
    {
     "data": {
      "text/plain": "array([[0. , 0.2, 0.8],\n       [0. , 1. , 0. ],\n       [1. , 0. , 0. ],\n       [0. , 0. , 1. ],\n       [1. , 0. , 0. ],\n       [0. , 0. , 1. ],\n       [1. , 0. , 0. ],\n       [0. , 1. , 0. ],\n       [0. , 1. , 0. ],\n       [0. , 1. , 0. ],\n       [0. , 0.4, 0.6],\n       [0. , 1. , 0. ],\n       [0. , 0.8, 0.2],\n       [0. , 0.8, 0.2],\n       [0. , 0.6, 0.4],\n       [1. , 0. , 0. ],\n       [0. , 1. , 0. ],\n       [0. , 1. , 0. ],\n       [1. , 0. , 0. ],\n       [1. , 0. , 0. ],\n       [0. , 0. , 1. ],\n       [0. , 1. , 0. ],\n       [1. , 0. , 0. ],\n       [1. , 0. , 0. ],\n       [0. , 0. , 1. ],\n       [1. , 0. , 0. ],\n       [1. , 0. , 0. ],\n       [0. , 1. , 0. ],\n       [0. , 1. , 0. ],\n       [1. , 0. , 0. ]])"
     },
     "execution_count": 42,
     "metadata": {},
     "output_type": "execute_result"
    }
   ],
   "source": [
    "knn_myi.predict_proba(x_test)"
   ],
   "metadata": {
    "collapsed": false,
    "pycharm": {
     "name": "#%%\n"
    }
   }
  }
 ],
 "metadata": {
  "kernelspec": {
   "display_name": "Python 3",
   "language": "python",
   "name": "python3"
  },
  "language_info": {
   "codemirror_mode": {
    "name": "ipython",
    "version": 2
   },
   "file_extension": ".py",
   "mimetype": "text/x-python",
   "name": "python",
   "nbconvert_exporter": "python",
   "pygments_lexer": "ipython2",
   "version": "2.7.6"
  }
 },
 "nbformat": 4,
 "nbformat_minor": 0
}